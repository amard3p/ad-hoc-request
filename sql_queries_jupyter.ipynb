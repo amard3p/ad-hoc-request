{
 "cells": [
  {
   "cell_type": "markdown",
   "id": "4cdb4c7a",
   "metadata": {},
   "source": [
    "# SQL Queries in Python"
   ]
  },
  {
   "cell_type": "code",
   "execution_count": null,
   "id": "cc83dcd4",
   "metadata": {},
   "outputs": [],
   "source": [
    "import sqlite3\n",
    "import pandas as pd\n",
    "from sqlalchemy import create_engine"
   ]
  },
  {
   "cell_type": "code",
   "execution_count": null,
   "id": "030db48a",
   "metadata": {},
   "outputs": [],
   "source": [
    "# Function to execute SQL queries\n",
    "def run_query(query):\n",
    "    \"\"\"Executes SQL query and returns results as DataFrame\"\"\"\n",
    "    engine = create_engine(\"sqlite:///adhoc_requests.db\")\n",
    "    conn = engine.connect()\n",
    "    df = pd.read_sql(query, conn)\n",
    "    conn.close()\n",
    "    return df"
   ]
  },
  {
   "cell_type": "code",
   "execution_count": null,
   "id": "57ab7e97",
   "metadata": {},
   "outputs": [],
   "source": [
    "# Query 1: Markets where \"Atliq Exclusive\" operates in APAC\n",
    "query1 = \"\"\"\n",
    "SELECT DISTINCT market\n",
    "FROM dim_customer\n",
    "WHERE customer = 'Atliq Exclusive' AND region ='APAC';\n",
    "\"\"\"\n",
    "print(\"Query 1 Results:\")\n",
    "display(run_query(query1))"
   ]
  },
  {
   "cell_type": "code",
   "execution_count": null,
   "id": "58267281",
   "metadata": {},
   "outputs": [],
   "source": [
    "# Query 2: Percentage of unique product increase in 2021 vs. 2020\n",
    "query2 = \"\"\"\n",
    "WITH cte1 AS (\n",
    "    SELECT COUNT(DISTINCT product_code) AS unique_products_2021 \n",
    "    FROM fact_sales_monthly\n",
    "    WHERE fiscal_year = 2021\n",
    "),\n",
    "cte2 AS (\n",
    "    SELECT COUNT(DISTINCT product_code) AS unique_products_2020 \n",
    "    FROM fact_sales_monthly\n",
    "    WHERE fiscal_year = 2020\n",
    ")\n",
    "SELECT *, ROUND(((unique_products_2021 - unique_products_2020) / unique_products_2020) * 100, 2) AS percentage_chg \n",
    "FROM cte1 CROSS JOIN cte2;\n",
    "\"\"\"\n",
    "print(\"Query 2 Results:\")\n",
    "display(run_query(query2))"
   ]
  },
  {
   "cell_type": "code",
   "execution_count": null,
   "id": "edcec311",
   "metadata": {},
   "outputs": [],
   "source": [
    "# Query 3: Unique product counts per segment\n",
    "query3 = \"\"\"\n",
    "SELECT segment, COUNT(DISTINCT product_code) AS product_count\n",
    "FROM dim_product\n",
    "GROUP BY segment\n",
    "ORDER BY product_count DESC;\n",
    "\"\"\"\n",
    "print(\"Query 3 Results:\")\n",
    "display(run_query(query3))"
   ]
  },
  {
   "cell_type": "code",
   "execution_count": null,
   "id": "fa892959",
   "metadata": {},
   "outputs": [],
   "source": [
    "# Query 4: Segment with most increase in unique products (2021 vs 2020)\n",
    "query4 = \"\"\"\n",
    "SELECT p.segment,\n",
    "    COUNT(DISTINCT CASE WHEN S.fiscal_year = 2020 THEN S.product_code END) AS product_count_2020, \n",
    "    COUNT(DISTINCT CASE WHEN S.fiscal_year = 2021 THEN S.product_code END) AS product_count_2021,\n",
    "    (COUNT(DISTINCT CASE WHEN S.fiscal_year = 2021 THEN S.product_code END) -\n",
    "     COUNT(DISTINCT CASE WHEN S.fiscal_year = 2020 THEN S.product_code END)) AS difference\n",
    "FROM dim_product AS p\n",
    "LEFT JOIN fact_sales_monthly AS S ON p.product_code = S.product_code\n",
    "WHERE S.fiscal_year IN (2020, 2021)\n",
    "GROUP BY p.segment\n",
    "ORDER BY difference DESC;\n",
    "\"\"\"\n",
    "print(\"Query 4 Results:\")\n",
    "display(run_query(query4))"
   ]
  },
  {
   "cell_type": "code",
   "execution_count": null,
   "id": "269307a1",
   "metadata": {},
   "outputs": [],
   "source": [
    "# Query 5: Products with highest and lowest manufacturing costs\n",
    "query5 = \"\"\"\n",
    "SELECT p.product_code, p.product, f.manufacturing_cost\n",
    "FROM dim_product AS p\n",
    "LEFT JOIN fact_manufacturing_cost AS f ON p.product_code = f.product_code\n",
    "WHERE manufacturing_cost = (SELECT MAX(manufacturing_cost) FROM fact_manufacturing_cost)\n",
    "UNION\n",
    "SELECT p.product_code, p.product, f.manufacturing_cost\n",
    "FROM dim_product AS p\n",
    "LEFT JOIN fact_manufacturing_cost AS f ON p.product_code = f.product_code\n",
    "WHERE manufacturing_cost = (SELECT MIN(manufacturing_cost) FROM fact_manufacturing_cost);\n",
    "\"\"\"\n",
    "print(\"Query 5 Results:\")\n",
    "display(run_query(query5))"
   ]
  },
  {
   "cell_type": "code",
   "execution_count": null,
   "id": "e039ca85",
   "metadata": {},
   "outputs": [],
   "source": [
    "# Query 6: Top 5 customers with highest avg pre-invoice discount in India (2021)\n",
    "query6 = \"\"\"\n",
    "WITH cte AS (\n",
    "    SELECT a.customer_code, a.customer, b.fiscal_year, b.pre_invoice_discount_pct\n",
    "    FROM dim_customer AS a\n",
    "    JOIN fact_pre_invoice_deductions AS b\n",
    "    ON a.customer_code = b.customer_code\n",
    "    WHERE b.fiscal_year = 2021 AND a.market = 'India'\n",
    ")\n",
    "SELECT customer_code, customer, ROUND(AVG(pre_invoice_discount_pct) * 100, 2) AS average_discount_pct\n",
    "FROM cte\n",
    "GROUP BY customer_code, customer\n",
    "ORDER BY average_discount_pct DESC\n",
    "LIMIT 5;\n",
    "\"\"\"\n",
    "print(\"Query 6 Results:\")\n",
    "display(run_query(query6))"
   ]
  },
  {
   "cell_type": "code",
   "execution_count": null,
   "id": "e4b456f2",
   "metadata": {},
   "outputs": [],
   "source": [
    "# Query 7: Monthly Gross Sales Amount for \"Atliq Exclusive\"\n",
    "query7 = \"\"\"\n",
    "WITH cte AS (\n",
    "    SELECT a.customer, b.date, b.sold_quantity, c.gross_price \n",
    "    FROM dim_customer AS a\n",
    "    JOIN fact_sales_monthly AS b ON a.customer_code = b.customer_code\n",
    "    JOIN fact_gross_price AS c ON b.product_code = c.product_code\n",
    "    WHERE a.customer = 'Atliq Exclusive'\n",
    ")\n",
    "SELECT strftime('%m', date) AS Month, strftime('%Y', date) AS Year,\n",
    "       ROUND(SUM(sold_quantity * gross_price) / 1000000, 2) AS gross_sales_amt\n",
    "FROM cte\n",
    "GROUP BY Month, Year;\n",
    "\"\"\"\n",
    "print(\"Query 7 Results:\")\n",
    "display(run_query(query7))"
   ]
  },
  {
   "cell_type": "code",
   "execution_count": null,
   "id": "af2246ca",
   "metadata": {},
   "outputs": [],
   "source": [
    "# Query 8: Quarter with maximum total sold quantity in 2020\n",
    "query8 = \"\"\"\n",
    "SELECT CASE\n",
    "         WHEN date BETWEEN '2019-09-01' AND '2019-11-30' THEN 1\n",
    "         WHEN date BETWEEN '2019-12-01' AND '2020-02-29' THEN 2\n",
    "         WHEN date BETWEEN '2020-03-01' AND '2020-05-31' THEN 3\n",
    "         WHEN date BETWEEN '2020-06-01' AND '2020-08-31' THEN 4\n",
    "       END AS Quarter,\n",
    "       SUM(sold_quantity) AS total_sold_quantity\n",
    "FROM fact_sales_monthly\n",
    "WHERE fiscal_year = 2020\n",
    "GROUP BY Quarter\n",
    "ORDER BY total_sold_quantity DESC;\n",
    "\"\"\"\n",
    "print(\"Query 8 Results:\")\n",
    "display(run_query(query8))"
   ]
  },
  {
   "cell_type": "code",
   "execution_count": null,
   "id": "739ab920",
   "metadata": {},
   "outputs": [],
   "source": [
    "# Query 9: Channel with highest gross sales in 2021\n",
    "query9 = \"\"\"\n",
    "WITH cte AS (\n",
    "    SELECT a.channel, SUM(b.sold_quantity * c.gross_price) / 1000000 AS gross_sales_mln\n",
    "    FROM dim_customer AS a\n",
    "    JOIN fact_sales_monthly AS b ON a.customer_code = b.customer_code\n",
    "    JOIN fact_gross_price AS c ON b.product_code = c.product_code\n",
    "    WHERE b.fiscal_year = 2021\n",
    "    GROUP BY a.channel\n",
    ")\n",
    "SELECT channel, gross_sales_mln, ROUND((gross_sales_mln / SUM(gross_sales_mln) OVER()) * 100, 2) AS pct_contrib\n",
    "FROM cte\n",
    "ORDER BY gross_sales_mln DESC;\n",
    "\"\"\"\n",
    "print(\"Query 9 Results:\")\n",
    "display(run_query(query9))"
   ]
  },
  {
   "cell_type": "code",
   "execution_count": null,
   "id": "3b0c5e1b",
   "metadata": {},
   "outputs": [],
   "source": [
    "# Query 10: Top 3 products in each divisionin 2021\n",
    "query10 = \"\"\"\n",
    "\n",
    "WITH cte1 AS (\n",
    "SELECT \n",
    "         a.division,\n",
    "        a.product_code,\n",
    "        a.product,\n",
    "        sum(b.sold_quantity) AS total_sold_quantity\n",
    "FROM dim_product AS a\n",
    "JOIN fact_sales_monthly AS b\n",
    "ON a.product_code = b.product_code\n",
    "    WHERE b.fiscal_year = 2021\n",
    "    GROUP BY a.division, a.product_code, a.product\n",
    "),\n",
    "\n",
    "-- I need to show 3 top products per division, top products will be based on total sold quantity\n",
    "\n",
    "cte2 AS (\n",
    "SELECT *,\n",
    "rank() OVER (PARTITION BY division ORDER BY total_sold_quantity DESC) as `rank`\n",
    "        FROM cte1\n",
    ") \n",
    "\n",
    "SELECT * FROM cte2\n",
    "WHERE `rank` <= 3;\n",
    "\"\"\"\n",
    "\n",
    "print(\"Query 9 Results:\")\n",
    "display(run_query(query9))"
   ]
  }
 ],
 "metadata": {
  "kernelspec": {
   "display_name": "Python 3 (ipykernel)",
   "language": "python",
   "name": "python3"
  },
  "language_info": {
   "codemirror_mode": {
    "name": "ipython",
    "version": 3
   },
   "file_extension": ".py",
   "mimetype": "text/x-python",
   "name": "python",
   "nbconvert_exporter": "python",
   "pygments_lexer": "ipython3",
   "version": "3.9.13"
  }
 },
 "nbformat": 4,
 "nbformat_minor": 5
}
